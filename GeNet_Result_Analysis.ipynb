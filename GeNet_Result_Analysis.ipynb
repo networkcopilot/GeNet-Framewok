{
  "nbformat": 4,
  "nbformat_minor": 0,
  "metadata": {
    "colab": {
      "provenance": [],
      "collapsed_sections": [
        "w51kcdRXlFNG"
      ]
    },
    "kernelspec": {
      "name": "python3",
      "display_name": "Python 3"
    },
    "language_info": {
      "name": "python"
    }
  },
  "cells": [
    {
      "cell_type": "code",
      "source": [
        "import pandas as pd\n",
        "import numpy as np\n",
        "import matplotlib.pyplot as plt\n",
        "import seaborn as sns\n",
        "from scipy.stats import linregress\n",
        "from scipy.stats import levene\n",
        "from scipy.stats import kruskal\n",
        "from scipy.stats import friedmanchisquare\n",
        "from scipy.stats import ttest_ind\n",
        "from statsmodels.stats.oneway import anova_oneway\n",
        "from itertools import combinations\n",
        "import scipy.stats as stats\n",
        "from scipy.stats import entropy\n",
        "from scipy.stats import pearsonr, spearmanr\n",
        "from scipy.stats import ttest_ind\n",
        "from scipy.stats import levene, kruskal"
      ],
      "metadata": {
        "id": "TG3n9nrEdXv8"
      },
      "execution_count": null,
      "outputs": []
    },
    {
      "cell_type": "markdown",
      "source": [
        "#Initial Experiment Analysis"
      ],
      "metadata": {
        "id": "bfSFmV9ydU-m"
      }
    },
    {
      "cell_type": "code",
      "source": [
        "tius_scores = 'path'\n",
        "iis_scores = 'path2'\n",
        "\n",
        "merged = tius_scores.merge(iis_scores, on=['Scenario','Temp','Run'])"
      ],
      "metadata": {
        "id": "j6r3-8AKnX9D"
      },
      "execution_count": null,
      "outputs": []
    },
    {
      "cell_type": "markdown",
      "source": [
        "Visualize TIUS by temperature levels (Fig 5a)"
      ],
      "metadata": {
        "id": "kklVEfy5o9WB"
      }
    },
    {
      "cell_type": "code",
      "source": [
        "plt.rcParams['font.size'] = 20\n",
        "plt.figure(figsize=(5, 5))\n",
        "sns.boxplot(x='Temp', y='TIUS', data=merged)\n",
        "\n",
        "means = data_four_one.groupby('Temp')['TIUS'].mean()\n",
        "x = range(0, len(means))\n",
        "\n",
        "# Linear interpolation for trend line\n",
        "slope, intercept = np.polyfit(x, means, 1)\n",
        "plt.plot(x, slope * x + intercept, color='r', linestyle='-')\n",
        "\n",
        "plt.xlabel('Temperature')\n",
        "plt.ylabel('TIUS')\n",
        "plt.show()"
      ],
      "metadata": {
        "id": "p8JW7ValpAR3"
      },
      "execution_count": null,
      "outputs": []
    },
    {
      "cell_type": "markdown",
      "source": [
        "Visualize IIS by temperature level (Fig 5b)"
      ],
      "metadata": {
        "id": "OOIea-ULpNvJ"
      }
    },
    {
      "cell_type": "code",
      "source": [
        "plt.figure(figsize=(5, 5))\n",
        "sns.boxplot(x='Temp', y='IIS', data=data_four_one)\n",
        "means = data_four_one.groupby('Temp')['IIS'].mean()\n",
        "x = range(0, len(means))\n",
        "slope, intercept = np.polyfit(x, means, 1)\n",
        "plt.plot(x, slope * x + intercept, color='r', linestyle='-')\n",
        "plt.xlabel('Temperature')\n",
        "plt.ylabel('IIS')\n",
        "plt.show()"
      ],
      "metadata": {
        "id": "C65EI4ehpzZi"
      },
      "execution_count": null,
      "outputs": []
    },
    {
      "cell_type": "markdown",
      "source": [
        "Visualize TIUS and IIS by Scenarios (Fig. 6)"
      ],
      "metadata": {
        "id": "VGHKf2Txq9oM"
      }
    },
    {
      "cell_type": "code",
      "source": [
        "def plot_boxplots_scenarios(df,goal):\n",
        "  df = data_four_one[['Type','Scenario','Temp',goal,'TIUS']]\n",
        "  melted = df.melt(id_vars=['Scenario','Temp','Type'], var_name='Metric', value_name='Value')\n",
        "\n",
        "  custom_order = ['Adding Local PCs', 'Internet Connectivity', 'Adding DMZ', 'Adding DRA', 'Adding Communication Servers', 'Basic Zone Based Firewall', 'Transparent IOS Firewall', 'Time Based Access List', 'IP Traffic Export', 'Role Based CLI Access']\n",
        "  custom_palette = {goal: '#e07c4f', 'TIUS': '#1C70B9'}\n",
        "  fig, ax1 = plt.subplots(figsize=(7, 3.5))\n",
        "\n",
        "  color = 'tab:brown'\n",
        "  ax1.set_xlabel(\" \")\n",
        "  ax1.set_ylabel('IIS', color=color)\n",
        "  sns.boxplot(x='Scenario', y='Value', hue='Metric', data=melted, palette=custom_palette, order=custom_order)\n",
        "  ax1.tick_params(axis='y', labelcolor=color)\n",
        "\n",
        "  plt.xticks(rotation=90, fontsize = 16)\n",
        "\n",
        "  ax2 = ax1.twinx()  # instantiate a second Axes that shares the same x-axis\n",
        "\n",
        "  color = 'tab:blue'\n",
        "  ax2.set_ylabel('TIUS', color=color)  # we already handled the x-label with ax1\n",
        "  ax2.tick_params(axis='y', labelcolor=color)\n",
        "  ax2.set_ylim(bottom= 0 , top = 100)\n",
        "  ax1.legend_.set_visible(False)\n",
        "  plt.show()\n",
        "\n",
        "plot_boxplots_scenarios(merged,'IIS')"
      ],
      "metadata": {
        "id": "bqQ5LGzJqq0J"
      },
      "execution_count": null,
      "outputs": []
    },
    {
      "cell_type": "markdown",
      "source": [
        "# Human - LLM correlation"
      ],
      "metadata": {
        "id": "jQ6qSNgHdbYy"
      }
    },
    {
      "cell_type": "markdown",
      "source": [
        "Fig. 7: The correlation between human and LLM IIS (Spearman of 0.847 with a p-value of 4.11 × 10−67)"
      ],
      "metadata": {
        "id": "XC9qjTYAoASB"
      }
    },
    {
      "cell_type": "code",
      "source": [
        "plt.rcParams['font.size'] = 20\n",
        "def plotcorrelations(df):\n",
        "  plt.figure(figsize=(6, 6))\n",
        "  plt.scatter(df['LLM Score'], df['Human Score'])\n",
        "  slope, intercept = np.polyfit(df['LLM Score'], df['Human Score'], 1)\n",
        "  regression_line = slope * df['LLM Score'] + intercept\n",
        "  plt.plot(df['LLM Score'], regression_line, color='red', label=f'Regression Line: y = {slope:.2f}x + {intercept:.2f}')\n",
        "\n",
        "  plt.xlabel(\"LLM IIS\")\n",
        "  plt.ylabel(\"Human IIS\")\n",
        "  plt.show()\n",
        "\n",
        "\n",
        "  # Calculate correlations\n",
        "  spearman_corr, spearman_p = stats.spearmanr(df['LLM Score'], df['Human Score'])\n",
        "  pearson_corr, pearson_p = stats.pearsonr(df['LLM Score'], df['Human Score'])\n",
        "  kendall_corr, kendall_p = stats.kendalltau(df['LLM Score'], df['Human Score'])\n",
        "\n",
        "\n",
        "  print(f\"Spearman Correlation: {spearman_corr:.3f}, p-value: {spearman_p}\")\n",
        "  print(f\"Pearson Correlation: {pearson_corr:.3f}, p-value: {pearson_p}\")\n",
        "  print(f\"Kendall Tau Correlation: {kendall_corr:.3f}, p-value: {kendall_p}\")\n",
        "  new_row = {'Spearman': spearman_corr, 'Spearman_p':spearman_p, 'Pearson': pearson_corr,'pearson_p':pearson_p, 'Kendall': kendall_corr,'kendall_p':kendall_p}\n",
        "  return new_row\n"
      ],
      "metadata": {
        "id": "-0wFlULHnfPk"
      },
      "execution_count": null,
      "outputs": []
    },
    {
      "cell_type": "markdown",
      "source": [
        "#Full Experiment Analysis"
      ],
      "metadata": {
        "id": "w_IrkjV7dyFo"
      }
    },
    {
      "cell_type": "code",
      "execution_count": null,
      "metadata": {
        "id": "UyxIKymqdSmM"
      },
      "outputs": [],
      "source": [
        "tius_scores = 'path'\n",
        "iis_scores = 'path2'\n",
        "\n",
        "merged = tius_scores.merge(iis_scores, on=['Scenario','Type'])\n",
        "plt.rcParams['font.size'] = 20"
      ]
    },
    {
      "cell_type": "markdown",
      "source": [
        "## RQ1: How effectively does GPT-4 interpret network topology images of varying quality?"
      ],
      "metadata": {
        "id": "EnE6ODyuhc6u"
      }
    },
    {
      "cell_type": "markdown",
      "source": [
        "Visualizing TIUS by scenario type (Fig. 9a)"
      ],
      "metadata": {
        "id": "B320GSXNiXu8"
      }
    },
    {
      "cell_type": "code",
      "source": [
        "merged['TIUS'] = merged['TIUS']*100\n",
        "plt.figure(figsize=(5, 5))\n",
        "sns.boxplot(x='Type', y='TIUS', data=merged, palette='muted')\n",
        "plt.xlabel('')\n",
        "plt.ylabel('TIUS',fontsize=18)\n",
        "plt.show()"
      ],
      "metadata": {
        "id": "1_OWY1VkheLN"
      },
      "execution_count": null,
      "outputs": []
    },
    {
      "cell_type": "markdown",
      "source": [
        "Statistical tests"
      ],
      "metadata": {
        "id": "mAJ7Pb6yide6"
      }
    },
    {
      "cell_type": "code",
      "source": [
        "df_topo = merged[merged['Type'] == 'Topology']\n",
        "df_config = merged[merged['Type'] == 'Configuration']\n",
        "levene_stat, levene_p = levene(df_topo['TIUS'], df_config['TIUS'])\n",
        "print(f\"Levene's test statistic: {levene_stat:.3f}\")\n",
        "print(f\"Levene's test p-value: {levene_p:.3f}\")\n",
        "welch_stat, welch_p = ttest_ind(df_topo['TIUS'], df_config['TIUS'], equal_var=False) # Welch's t-test assumes unequal variances\n",
        "print(f\"Welch's t-test statistic: {welch_stat:.3f}\")\n",
        "print(f\"Welch's t-test p-value: {welch_p:.3f}\")"
      ],
      "metadata": {
        "id": "0Z9c4CiOh01X"
      },
      "execution_count": null,
      "outputs": []
    },
    {
      "cell_type": "markdown",
      "source": [
        "Visualizing TIUS by platform"
      ],
      "metadata": {
        "id": "0qh6zaiPiieO"
      }
    },
    {
      "cell_type": "code",
      "source": [
        "desired_order = ['PowerPoint','GNS3', 'Paper Sketches']\n",
        "# Plot the boxplot\n",
        "plt.figure(figsize=(5, 5))\n",
        "sns.boxplot(x='Platform', y='TIUS', data=merged, hue='Platform', order=desired_order)\n",
        "# Customize labels and appearance\n",
        "plt.xlabel('')\n",
        "plt.ylabel('TIUS')\n",
        "plt.xticks(rotation=20)\n",
        "plt.show()"
      ],
      "metadata": {
        "id": "Z2NzkklciEoC"
      },
      "execution_count": null,
      "outputs": []
    },
    {
      "cell_type": "markdown",
      "source": [
        "Statistical tests"
      ],
      "metadata": {
        "id": "hsoj-0ulipXN"
      }
    },
    {
      "cell_type": "code",
      "source": [
        "platforms = merged['Platform'].unique()\n",
        "platform_groups = {platform: merged[merged['Platform'] == platform]['TIUS'] for platform in platforms}\n",
        "# Perform pairwise t-tests\n",
        "for platform1, platform2 in combinations(platforms, 2):\n",
        "    t_stat, p_value = ttest_ind(platform_groups[platform1], platform_groups[platform2])\n",
        "    print(f\"T-test between {platform1} and {platform2}:\")\n",
        "    print(f\"  t-statistic: {t_stat:.3f}\")\n",
        "    print(f\"  p-value: {p_value:.3f}\")"
      ],
      "metadata": {
        "id": "1PO7hQrtiIR5"
      },
      "execution_count": null,
      "outputs": []
    },
    {
      "cell_type": "markdown",
      "source": [
        "Visualizing TIUS by diagram type"
      ],
      "metadata": {
        "id": "i0Sjim_2iuOt"
      }
    },
    {
      "cell_type": "code",
      "source": [
        "desired_order = ['Normal','No Labels on Edges', 'Messy Layout']\n",
        "plt.figure(figsize=(5, 5))\n",
        "sns.boxplot(x='Diagram_Type', y='TIUS', data=merged, hue='Diagram_Type',order = desired_order)\n",
        "plt.xlabel('')\n",
        "plt.ylabel('TIUS')\n",
        "plt.xticks(rotation=30)\n",
        "plt.show()"
      ],
      "metadata": {
        "id": "g5x5mTm5itou"
      },
      "execution_count": null,
      "outputs": []
    },
    {
      "cell_type": "markdown",
      "source": [
        "Statistical tests"
      ],
      "metadata": {
        "id": "QMWNS_txizKm"
      }
    },
    {
      "cell_type": "code",
      "source": [
        "# Group data by platform\n",
        "types = merged['Diagram_Type'].unique()\n",
        "platform_groups = {platform: merged[merged['Diagram_Type'] == platform]['TIUS'] for platform in types}\n",
        "\n",
        "# Perform pairwise t-tests\n",
        "for platform1, platform2 in combinations(types, 2):\n",
        "    t_stat, p_value = ttest_ind(platform_groups[platform1], platform_groups[platform2])\n",
        "    print(f\"T-test between {platform1} and {platform2}:\")\n",
        "    print(f\"  t-statistic: {t_stat:.3f}\")\n",
        "    print(f\"  p-value: {p_value:.3f}\")"
      ],
      "metadata": {
        "id": "-qGYg7lHi1kO"
      },
      "execution_count": null,
      "outputs": []
    },
    {
      "cell_type": "markdown",
      "source": [
        "Visualizing TIUS by diagram type and platform (Fig. 8)"
      ],
      "metadata": {
        "id": "vbheLU4Hi-9a"
      }
    },
    {
      "cell_type": "code",
      "source": [
        "# Group the data by 'Platform' and 'Diagram_Type' and calculate mean scores.\n",
        "desired_order = ['PowerPoint','GNS3', 'Paper Sketches']\n",
        "\n",
        "def plot_vision_boxplots(df):\n",
        "  means = df.groupby(['Platform', 'Diagram_Type'])['TIUS'].mean().reset_index()\n",
        "\n",
        "  plt.figure(figsize=(10, 5))\n",
        "  sns.boxplot(\n",
        "      data=df,\n",
        "      x='Platform',\n",
        "      y='TIUS',\n",
        "      hue='Diagram_Type',\n",
        "      palette='muted',\n",
        "      order = desired_order\n",
        "  )\n",
        "\n",
        "  plt.xlabel('')\n",
        "  plt.ylabel('TIUS')\n",
        "\n",
        "  plt.legend(title='Diagram Type',  loc='lower left', title_fontsize=16, fontsize=16)\n",
        "  plt.xticks(rotation=0)\n",
        "  # Show the plot.\n",
        "  plt.tight_layout()\n",
        "  plt.show()"
      ],
      "metadata": {
        "id": "ENX3kVHui5pV"
      },
      "execution_count": null,
      "outputs": []
    },
    {
      "cell_type": "markdown",
      "source": [
        "Statistical tests"
      ],
      "metadata": {
        "id": "ggQ6V2BJjO9b"
      }
    },
    {
      "cell_type": "code",
      "source": [
        "groups = merged.groupby(['Platform', 'Diagram_Type'])['TIUS']\n",
        "\n",
        "# Extract data for each group\n",
        "data = [group.values for _, group in groups]\n",
        "\n",
        "# Perform Levene's test\n",
        "statistic, p_value = levene(*data)\n",
        "\n",
        "print(f\"Levene's Test Statistic: {statistic}\")\n",
        "print(f\"P-value: {p_value}\")\n",
        "\n",
        "# Interpret the results\n",
        "alpha = 0.05  # Significance level\n",
        "if p_value < alpha:\n",
        "    print(\"Variances are significantly different.\")\n",
        "else:\n",
        "    print(\"Variances are not significantly different.\")"
      ],
      "metadata": {
        "id": "DG_4oViejQgA"
      },
      "execution_count": null,
      "outputs": []
    },
    {
      "cell_type": "markdown",
      "source": [
        "Pairwise Leene's test"
      ],
      "metadata": {
        "id": "CE4-8VLxjWXv"
      }
    },
    {
      "cell_type": "code",
      "source": [
        "plt.rcParams['font.size'] = 14\n",
        "groups = merged.groupby(['Platform', 'Diagram_Type'])['TIUS']\n",
        "\n",
        "# Create a pivot table to store p-values\n",
        "combinations = list(groups.groups.keys())\n",
        "n = len(combinations)\n",
        "p_values = np.zeros((n, n))\n",
        "\n",
        "# Perform pairwise Levene's test and store the p-values\n",
        "for i in range(n):\n",
        "    for j in range(i, n):  # Only calculate upper triangle\n",
        "        group1_name = combinations[i]\n",
        "        group2_name = combinations[j]\n",
        "        group1_data = merged[(merged['Platform'] == group1_name[0]) & (merged['Diagram_Type'] == group1_name[1])]['TIUS']\n",
        "        group2_data = merged[(merged['Platform'] == group2_name[0]) & (merged['Diagram_Type'] == group2_name[1])]['TIUS']\n",
        "\n",
        "        if i != j:\n",
        "            _, p_value = levene(group1_data, group2_data)\n",
        "        else:\n",
        "            p_value = 1  # Variance is identical with itself\n",
        "\n",
        "        p_values[i, j] = p_values[j, i] = p_value\n",
        "\n",
        "# Create a DataFrame for the heatmap\n",
        "p_values_df = pd.DataFrame(p_values, index=combinations, columns=combinations)\n",
        "\n",
        "# Plot the heatmap\n",
        "plt.figure(figsize=(10, 8))\n",
        "sns.heatmap(p_values_df, annot=True, fmt=\".2f\", cmap=\"coolwarm\", cbar=True, xticklabels=True, yticklabels=True,annot_kws={\"size\": 10})\n",
        "plt.title(\"Pairwise Levene's Test P-Values\")\n",
        "plt.xlabel(\"Group\")\n",
        "plt.ylabel(\"Group\")\n",
        "plt.xticks(rotation=30, ha=\"right\")\n",
        "plt.yticks(rotation=0)\n",
        "plt.tight_layout()\n",
        "plt.show()"
      ],
      "metadata": {
        "id": "Mzm_sK2hjTGA"
      },
      "execution_count": null,
      "outputs": []
    },
    {
      "cell_type": "markdown",
      "source": [
        "Informatio Gain calculation"
      ],
      "metadata": {
        "id": "6YYwH2CUg14m"
      }
    },
    {
      "cell_type": "code",
      "source": [
        "def calculate_information_gain(data, target_variable, feature):\n",
        "    # Calculate entropy of the target variable\n",
        "    target_entropy = entropy(data[target_variable].value_counts(normalize=True))\n",
        "\n",
        "    # Calculate conditional entropy of target variable given the feature\n",
        "    conditional_entropy = 0\n",
        "    for value in data[feature].unique():\n",
        "        subset = data[data[feature] == value]\n",
        "        conditional_entropy += (len(subset) / len(data)) * entropy(subset[target_variable].value_counts(normalize=True))\n",
        "\n",
        "    # Calculate information gain\n",
        "    information_gain = target_entropy - conditional_entropy\n",
        "    return information_gain\n",
        "\n",
        "\n",
        "target_variable = 'TIUS'\n",
        "features = ['Platform', 'Scenario', 'Diagram_Type', 'Type']\n",
        "\n",
        "for feature in features:\n",
        "  try:\n",
        "    information_gain = calculate_information_gain(merged, target_variable, feature)\n",
        "    print(f\"Information Gain of {feature} on {target_variable}: {information_gain}\")\n",
        "  except KeyError:\n",
        "    print(f\"Feature '{feature}' not found in the DataFrame. Skipping.\")"
      ],
      "metadata": {
        "id": "tabKIUSBjskn"
      },
      "execution_count": null,
      "outputs": []
    },
    {
      "cell_type": "markdown",
      "source": [
        "Pairwise t-tests on platforms and diagram types"
      ],
      "metadata": {
        "id": "EaroRKdwhH2f"
      }
    },
    {
      "cell_type": "code",
      "source": [
        "# Group data by 'Platform' and 'Diagram_Type'\n",
        "groups = merged.groupby(['Platform', 'Diagram_Type'])['TIUS']\n",
        "\n",
        "# Create a list of all unique group combinations\n",
        "combinations = list(groups.groups.keys())\n",
        "num_combinations = len(combinations)\n",
        "\n",
        "# Perform pairwise Welch's t-tests\n",
        "results = {}\n",
        "p_values = np.full((num_combinations, num_combinations), np.nan)  # Matrix to store p-values\n",
        "\n",
        "for i in range(num_combinations):\n",
        "    for j in range(i + 1, num_combinations):\n",
        "        group1_name = combinations[i]\n",
        "        group2_name = combinations[j]\n",
        "\n",
        "        group1_data = merged[\n",
        "            (merged['Platform'] == group1_name[0]) &\n",
        "            (merged['Diagram_Type'] == group1_name[1])\n",
        "        ]['TIUS']\n",
        "\n",
        "        group2_data = merged[\n",
        "            (merged['Platform'] == group2_name[0]) &\n",
        "            (merged['Diagram_Type'] == group2_name[1])\n",
        "        ]['TIUS']\n",
        "\n",
        "        t_stat, p_val = ttest_ind(group1_data, group2_data, equal_var=False)  # Welch's t-test\n",
        "        results[(group1_name, group2_name)] = (t_stat, p_val)\n",
        "        p_values[i, j] = p_val\n",
        "        p_values[j, i] = p_val  # Symmetric matrix\n",
        "\n",
        "# Convert the combinations to readable labels for the heatmap\n",
        "labels = [f\"{platform}-{diagram_type}\" for platform, diagram_type in combinations]\n",
        "\n",
        "# Create a DataFrame for the heatmap\n",
        "p_values_df = pd.DataFrame(p_values, index=labels, columns=labels)\n",
        "\n",
        "# Plot the heatmap\n",
        "plt.figure(figsize=(10, 8))\n",
        "sns.heatmap(p_values_df, annot=True, fmt=\".2f\", cmap=\"coolwarm\", cbar=True,\n",
        "            xticklabels=labels, yticklabels=labels,annot_kws={\"size\": 10})\n",
        "plt.title(\"Pairwise Welch's t-test p-values\")\n",
        "plt.xticks(rotation=45, ha='right')\n",
        "plt.yticks(rotation=0)\n",
        "plt.tight_layout()\n",
        "plt.show()"
      ],
      "metadata": {
        "id": "JQjZQkyfhIIA"
      },
      "execution_count": null,
      "outputs": []
    },
    {
      "cell_type": "markdown",
      "source": [
        "## RQ2: How effectively can an LLM-based networking co-pilot handle network intents?"
      ],
      "metadata": {
        "id": "WxRuTpDphh0N"
      }
    },
    {
      "cell_type": "markdown",
      "source": [
        "Visualize IIS by scenario type (Fig 9b)"
      ],
      "metadata": {
        "id": "ysRrbCLki6vf"
      }
    },
    {
      "cell_type": "code",
      "source": [
        "plt.figure(figsize=(5, 5))\n",
        "sns.boxplot(x='Type', y='Score', data = merged, palette='muted')\n",
        "plt.xlabel('')\n",
        "plt.ylabel('IIS')\n",
        "plt.show()"
      ],
      "metadata": {
        "id": "UVDMghbCh8Vv"
      },
      "execution_count": null,
      "outputs": []
    },
    {
      "cell_type": "markdown",
      "source": [
        "Variance equalty statistical test"
      ],
      "metadata": {
        "id": "y12KFvQqiKS0"
      }
    },
    {
      "cell_type": "code",
      "source": [
        "groups = merged.groupby('Type')['Score'].apply(list)\n",
        "\n",
        "# Performing Levene's test\n",
        "statistic, p_value = levene(*groups)\n",
        "\n",
        "# Printing the results\n",
        "print(f\"Levene's variance equality test statistic: {statistic}\")\n",
        "print(f\"Levene's test p-value: {p_value}\")\n",
        "\n",
        "# Determining significance and conclusion\n",
        "alpha = 0.05  # Significance level\n",
        "if p_value < alpha:\n",
        "    print(f\"The test is significant (p < {alpha}). Variances are not equal among the groups.\")\n",
        "else:\n",
        "    print(f\"The test is not significant (p >= {alpha}). Variances are equal among the groups.\")"
      ],
      "metadata": {
        "id": "l6aTTOZxiJyt"
      },
      "execution_count": null,
      "outputs": []
    },
    {
      "cell_type": "markdown",
      "source": [
        "Mean equalty statistical tests (t-test)"
      ],
      "metadata": {
        "id": "rAhGoKwNiVZz"
      }
    },
    {
      "cell_type": "code",
      "source": [
        "groups = merged.groupby('Type')['Score'].apply(list)\n",
        "\n",
        "# Performing Welch's t-test\n",
        "group1, group2 = groups.iloc[0], groups.iloc[1]  # Assuming two groups for the t-test\n",
        "statistic, p_value = ttest_ind(group1, group2, equal_var=False)\n",
        "\n",
        "# Printing the results\n",
        "print(f\"Welch's t-test statistic: {statistic}\")\n",
        "print(f\"Welch's t-test p-value: {p_value}\")\n",
        "\n",
        "# Determining significance and conclusion\n",
        "alpha = 0.05  # Significance level\n",
        "if p_value < alpha:\n",
        "    print(f\"The test is significant (p < {alpha}). The means of the two groups are significantly different.\")\n",
        "else:\n",
        "    print(f\"The test is not significant (p >= {alpha}). The means of the two groups are not significantly different.\")"
      ],
      "metadata": {
        "id": "oS5DSgOViY5T"
      },
      "execution_count": null,
      "outputs": []
    },
    {
      "cell_type": "markdown",
      "source": [
        "Visualize IIS by platform"
      ],
      "metadata": {
        "id": "eIwnSIzAi_0e"
      }
    },
    {
      "cell_type": "code",
      "source": [
        "desired_order = ['PowerPoint','GNS3', 'Paper Sketches']\n",
        "plt.figure(figsize=(5, 5))\n",
        "sns.boxplot(x='Platform', y='Score', data = mergedall, hue='Platform',order = desired_order)\n",
        "plt.xlabel('')\n",
        "plt.ylabel('IIS')\n",
        "plt.xticks(rotation=10)\n",
        "plt.show()"
      ],
      "metadata": {
        "id": "iMxVOlfsiiVR"
      },
      "execution_count": null,
      "outputs": []
    },
    {
      "cell_type": "markdown",
      "source": [
        "Pairwise mean equality statistical tests (t-test)"
      ],
      "metadata": {
        "id": "_SAA4bapjIwr"
      }
    },
    {
      "cell_type": "code",
      "source": [
        "groups = merged.groupby('Platform')['Score'].apply(list)\n",
        "\n",
        "# Performing pairwise Welch's t-tests\n",
        "print(\"Performing pairwise Welch's t-tests:\")\n",
        "\n",
        "# Initialize a list to store results\n",
        "pairwise_results = []\n",
        "alpha = 0.05  # Significance level\n",
        "\n",
        "for (group1_name, group1_data), (group2_name, group2_data) in combinations(groups.items(), 2):\n",
        "    # Welch's t-test with unequal variances\n",
        "    stat, p = ttest_ind(group1_data, group2_data, equal_var=False)\n",
        "\n",
        "    result = {\n",
        "        'Group 1': group1_name,\n",
        "        'Group 2': group2_name,\n",
        "        'Statistic': stat,\n",
        "        'p-value': p,\n",
        "        'Conclusion': 'Significant' if p < alpha else 'Not Significant'\n",
        "    }\n",
        "    pairwise_results.append(result)\n",
        "\n",
        "pairwise_results_df = pd.DataFrame(pairwise_results)\n",
        "print(pairwise_results_df)"
      ],
      "metadata": {
        "id": "omOQq5DCjHL6"
      },
      "execution_count": null,
      "outputs": []
    },
    {
      "cell_type": "markdown",
      "source": [
        "Visualizing IIS by diagram type"
      ],
      "metadata": {
        "id": "7GTwzIj0jY-e"
      }
    },
    {
      "cell_type": "code",
      "source": [
        "desired_order = ['Normal','No Labels on Edges', 'Messy Layout']\n",
        "plt.figure(figsize=(5, 5))\n",
        "sns.boxplot(x='Diagram_Type', y='Score', data=merged, hue='Diagram_Type', order = desired_order)\n",
        "plt.xlabel('')\n",
        "plt.ylabel('IIS')\n",
        "plt.xticks(rotation=20)\n",
        "plt.show()"
      ],
      "metadata": {
        "id": "rO0LDjnqjYie"
      },
      "execution_count": null,
      "outputs": []
    },
    {
      "cell_type": "markdown",
      "source": [
        "Pairwise mean equality statistical tests (t-test)"
      ],
      "metadata": {
        "id": "XObuB5nwjnQZ"
      }
    },
    {
      "cell_type": "code",
      "source": [
        "groups = merged.groupby('Diagram_Type')['Score'].apply(list)\n",
        "\n",
        "# Performing pairwise Welch's t-tests\n",
        "print(\"Performing pairwise Welch's t-tests:\")\n",
        "\n",
        "# Initialize a list to store results\n",
        "pairwise_results = []\n",
        "alpha = 0.05  # Significance level\n",
        "\n",
        "for (group1_name, group1_data), (group2_name, group2_data) in combinations(groups.items(), 2):\n",
        "    # Welch's t-test with unequal variances\n",
        "    stat, p = ttest_ind(group1_data, group2_data, equal_var=False)\n",
        "\n",
        "    result = {\n",
        "        'Group 1': group1_name,\n",
        "        'Group 2': group2_name,\n",
        "        'Statistic': stat,\n",
        "        'p-value': p,\n",
        "        'Conclusion': 'Significant' if p < alpha else 'Not Significant'\n",
        "    }\n",
        "    pairwise_results.append(result)\n",
        "\n",
        "pairwise_results_df = pd.DataFrame(pairwise_results)\n",
        "print(pairwise_results_df)"
      ],
      "metadata": {
        "id": "AeDOZCoCjfWC"
      },
      "execution_count": null,
      "outputs": []
    },
    {
      "cell_type": "markdown",
      "source": [
        "Visualizing TIUS by diagram type and platform (Fig. 10)"
      ],
      "metadata": {
        "id": "X8XhIXvwjvAr"
      }
    },
    {
      "cell_type": "code",
      "source": [
        "# Group the data by 'Platform' and 'Diagram_Type' and calculate mean scores.\n",
        "desired_order = ['PowerPoint','GNS3', 'Paper Sketches']  # Replace with your specific order\n",
        "def plot_boxplots(df,goal):\n",
        "  means = df.groupby(['Platform', 'Diagram_Type'])[goal].mean().reset_index()\n",
        "\n",
        "  # Create a boxplot.\n",
        "  plt.figure(figsize=(10, 5))\n",
        "  sns.boxplot(\n",
        "      data=df,\n",
        "      x='Platform',\n",
        "      y='Score',\n",
        "      hue='Diagram_Type',\n",
        "      palette='muted',\n",
        "      order = desired_order\n",
        "  )\n",
        "\n",
        "  # Customize plot aesthetics.\n",
        "  # plt.title('Distribution of IIS by Diagram Type and Platform')\n",
        "  plt.xlabel('')\n",
        "  plt.ylabel('IIS')\n",
        "  # plt.xticks(rotation=15)\n",
        "  plt.yticks()\n",
        "\n",
        "  plt.legend(title='Diagram Type', loc='lower left', title_fontsize=16, fontsize=16)\n",
        "  # plt.legend.get_frame().set_alpha(0.5)\n",
        "  plt.xticks(rotation=0)\n",
        "  # Show the plot.\n",
        "  plt.tight_layout()\n",
        "  plt.show()\n",
        "plot_boxplots(merged,'Score')"
      ],
      "metadata": {
        "id": "ztRWKPbWjp2W"
      },
      "execution_count": null,
      "outputs": []
    },
    {
      "cell_type": "markdown",
      "source": [
        "Pairwise variance equality tests"
      ],
      "metadata": {
        "id": "XUbIV9m9j9eN"
      }
    },
    {
      "cell_type": "code",
      "source": [
        "plt.rcParams['font.size'] = 14\n",
        "\n",
        "groups = merged.groupby(['Platform', 'Diagram_Type'])['Score']\n",
        "# Create a pivot table to store p-values\n",
        "combinations = list(groups.groups.keys())\n",
        "n = len(combinations)\n",
        "p_values = np.zeros((n, n))\n",
        "\n",
        "# Perform pairwise Levene's test and store the p-values\n",
        "for i in range(n):\n",
        "    for j in range(i, n):  # Only calculate upper triangle\n",
        "        group1_name = combinations[i]\n",
        "        group2_name = combinations[j]\n",
        "        group1_data = merged[(merged['Platform'] == group1_name[0]) & (merged['Diagram_Type'] == group1_name[1])]['Score']\n",
        "        group2_data = merged[(merged['Platform'] == group2_name[0]) & (merged['Diagram_Type'] == group2_name[1])]['Score']\n",
        "\n",
        "        if i != j:\n",
        "            _, p_value = levene(group1_data, group2_data)\n",
        "        else:\n",
        "            p_value = 1  # Variance is identical with itself\n",
        "\n",
        "        p_values[i, j] = p_values[j, i] = p_value\n",
        "\n",
        "# Create a DataFrame for the heatmap\n",
        "p_values_df = pd.DataFrame(p_values, index=combinations, columns=combinations)\n",
        "\n",
        "plt.figure(figsize=(10, 8))\n",
        "sns.heatmap(p_values_df, annot=True, fmt=\".2f\", cmap=\"coolwarm\", cbar=True, xticklabels=True, yticklabels=True,annot_kws={\"size\": 10})\n",
        "plt.title(\"Pairwise Levene's Test P-Values\")\n",
        "plt.xlabel(\"Group\")\n",
        "plt.ylabel(\"Group\")\n",
        "plt.xticks(rotation=45, ha=\"right\")\n",
        "plt.yticks(rotation=0)\n",
        "plt.tight_layout()\n",
        "plt.show()"
      ],
      "metadata": {
        "id": "2hMpD0SMjzOP"
      },
      "execution_count": null,
      "outputs": []
    },
    {
      "cell_type": "markdown",
      "source": [
        "Pairwise mean equality statistical tests (t-test)"
      ],
      "metadata": {
        "id": "NmKk55ZxkKz9"
      }
    },
    {
      "cell_type": "code",
      "source": [
        "# Group data by 'Platform' and 'Diagram_Type'\n",
        "groups = merged.groupby(['Platform', 'Diagram_Type'])['Score']\n",
        "\n",
        "# Create a list of all unique group combinations\n",
        "combinations = list(groups.groups.keys())\n",
        "num_combinations = len(combinations)\n",
        "\n",
        "# Perform pairwise Welch's t-tests\n",
        "results = {}\n",
        "p_values = np.full((num_combinations, num_combinations), np.nan)  # Matrix to store p-values\n",
        "\n",
        "for i in range(num_combinations):\n",
        "    for j in range(i + 1, num_combinations):\n",
        "        group1_name = combinations[i]\n",
        "        group2_name = combinations[j]\n",
        "\n",
        "        group1_data = merged[\n",
        "            (merged['Platform'] == group1_name[0]) &\n",
        "            (merged['Diagram_Type'] == group1_name[1])\n",
        "        ]['Score']\n",
        "\n",
        "        group2_data = merged[\n",
        "            (merged['Platform'] == group2_name[0]) &\n",
        "            (merged['Diagram_Type'] == group2_name[1])\n",
        "        ]['Score']\n",
        "\n",
        "        t_stat, p_val = ttest_ind(group1_data, group2_data, equal_var=False)  # Welch's t-test\n",
        "        results[(group1_name, group2_name)] = (t_stat, p_val)\n",
        "        p_values[i, j] = p_val\n",
        "        p_values[j, i] = p_val  # Symmetric matrix\n",
        "\n",
        "# Convert the combinations to readable labels for the heatmap\n",
        "labels = [f\"{platform}-{diagram_type}\" for platform, diagram_type in combinations]\n",
        "\n",
        "# Create a DataFrame for the heatmap\n",
        "p_values_df = pd.DataFrame(p_values, index=labels, columns=labels)\n",
        "\n",
        "plt.figure(figsize=(10, 8))\n",
        "sns.heatmap(p_values_df, annot=True, fmt=\".2f\", cmap=\"coolwarm\", cbar=True,\n",
        "            xticklabels=labels, yticklabels=labels,annot_kws={\"size\": 10})\n",
        "plt.title(\"Pairwise Welch's t-test p-values\")\n",
        "plt.xticks(rotation=45, ha='right')\n",
        "plt.yticks(rotation=0)\n",
        "plt.tight_layout()\n",
        "plt.show()"
      ],
      "metadata": {
        "id": "yU7yNQn9kM2O"
      },
      "execution_count": null,
      "outputs": []
    },
    {
      "cell_type": "markdown",
      "source": [
        "Informatio Gain calculation"
      ],
      "metadata": {
        "id": "wWtjlUElkqGS"
      }
    },
    {
      "cell_type": "code",
      "source": [
        "target_variable = 'Score'\n",
        "features = ['Platform', 'Scenario', 'Diagram_Type', 'Type','TIUS']\n",
        "\n",
        "for feature in features:\n",
        "  try:\n",
        "    information_gain = calculate_information_gain(merged, target_variable, feature)\n",
        "    print(f\"Information Gain of {feature} on {target_variable}: {information_gain}\")\n",
        "  except KeyError:\n",
        "    print(f\"Feature '{feature}' not found in the DataFrame. Skipping.\")"
      ],
      "metadata": {
        "id": "k2GbzO2AktQh"
      },
      "execution_count": null,
      "outputs": []
    },
    {
      "cell_type": "markdown",
      "source": [
        "## RQ3: To what extent does the complexity of intent, as perceived by domain experts, align with the intent implementations produced by an LLM-based networking co-pilot?"
      ],
      "metadata": {
        "id": "w51kcdRXlFNG"
      }
    },
    {
      "cell_type": "code",
      "source": [
        "scenario_to_bin = {\n",
        "    'Adding DRA': 'Hard',\n",
        "    'Basic Zone Based Firewall': 'Hard',\n",
        "    'Adding DMZ': 'Medium',\n",
        "    'IP Traffic Export': 'Medium',\n",
        "    'Internet Connectivity': 'Medium',\n",
        "    'Transparent IOS Firewall': 'Medium', #?\n",
        "    'Adding Communication Servers': 'Easy',\n",
        "    'Adding Local PCs': 'Easy',\n",
        "    'Role Based CLI Access': 'Easy',\n",
        "    'Time Based Access List': 'Easy'\n",
        "}\n",
        "\n",
        "merged['Complexity'] = merged['Scenario'].map(scenario_to_bin)"
      ],
      "metadata": {
        "id": "EG8YmBgwlkSp"
      },
      "execution_count": null,
      "outputs": []
    },
    {
      "cell_type": "markdown",
      "source": [
        "Visualize IIS by scenario complexity (Fig. 11)"
      ],
      "metadata": {
        "id": "AKg62zDRlqjI"
      }
    },
    {
      "cell_type": "code",
      "source": [
        "plt.figure(figsize=(5, 5))\n",
        "palette = ['#1f77b4', '#ff7f0e', '#d62728']\n",
        "sns.boxplot(x='Complexity', y='Score', data = merged, palette=palette)\n",
        "plt.xlabel('')\n",
        "plt.ylabel('IIS')\n",
        "plt.show()\n",
        "merged.groupby('Complexity')['Score'].mean()"
      ],
      "metadata": {
        "id": "lBdLPtb_lqJi"
      },
      "execution_count": null,
      "outputs": []
    },
    {
      "cell_type": "markdown",
      "source": [
        "Statistical tests - complexity's mipact on IIS"
      ],
      "metadata": {
        "id": "B_JwDHDimTO_"
      }
    },
    {
      "cell_type": "code",
      "source": [
        "groups = merged.groupby('Complexity')['Score'].apply(list)\n",
        "\n",
        "# Performing Levene's test\n",
        "levene_statistic, levene_p_value = levene(*groups)\n",
        "\n",
        "# Printing Levene's test results\n",
        "print(f\"Levene's variance equality test statistic: {levene_statistic}\")\n",
        "print(f\"Levene's test p-value: {levene_p_value}\")\n",
        "\n",
        "# Determining significance and conclusion for Levene's test\n",
        "alpha = 0.05  # Significance level\n",
        "if levene_p_value < alpha:\n",
        "    print(f\"The test is significant (p < {alpha}). Variances are not equal among the groups.\")\n",
        "else:\n",
        "    print(f\"The test is not significant (p >= {alpha}). Variances are equal among the groups.\")\n",
        "\n",
        "# Performing Kruskal-Wallis H-test\n",
        "kruskal_statistic, kruskal_p_value = kruskal(*groups)\n",
        "\n",
        "# Printing Kruskal-Wallis results\n",
        "print(f\"\\nKruskal-Wallis H-test statistic: {kruskal_statistic}\")\n",
        "print(f\"Kruskal-Wallis H-test p-value: {kruskal_p_value}\")\n",
        "\n",
        "# Determining significance and conclusion for Kruskal-Wallis test\n",
        "if kruskal_p_value < alpha:\n",
        "    print(f\"The Kruskal-Wallis test is significant (p < {alpha}). At least one group distribution is significantly different.\")\n",
        "else:\n",
        "    print(f\"The Kruskal-Wallis test is not significant (p >= {alpha}). Group distributions are not significantly different.\")"
      ],
      "metadata": {
        "id": "FEk4oaV_mJbT"
      },
      "execution_count": null,
      "outputs": []
    }
  ]
}